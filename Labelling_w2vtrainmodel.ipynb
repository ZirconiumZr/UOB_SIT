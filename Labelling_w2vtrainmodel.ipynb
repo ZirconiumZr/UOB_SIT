{
  "nbformat": 4,
  "nbformat_minor": 0,
  "metadata": {
    "colab": {
      "name": "Labelling_w2vtrainmodel.ipynb",
      "provenance": []
    },
    "kernelspec": {
      "name": "python3",
      "display_name": "Python 3"
    },
    "language_info": {
      "name": "python"
    }
  },
  "cells": [
    {
      "cell_type": "markdown",
      "source": [
        "# Train the Word2Vec model for labeling"
      ],
      "metadata": {
        "id": "BN5ZEAxoToSO"
      }
    },
    {
      "cell_type": "markdown",
      "source": [
        "import library"
      ],
      "metadata": {
        "id": "9WGDSc-BT1l8"
      }
    },
    {
      "cell_type": "code",
      "execution_count": null,
      "metadata": {
        "id": "L3FUzdGhbxAP"
      },
      "outputs": [],
      "source": [
        "from gensim.models import Word2Vec"
      ]
    },
    {
      "cell_type": "code",
      "source": [
        "import nltk\n",
        "from nltk import word_tokenize\n",
        "try:\n",
        "  nltk.data.find('tokenizers/punkt')\n",
        "except LookupError:\n",
        "  nltk.download('punkt')\n",
        "stop_words = 'nan'"
      ],
      "metadata": {
        "id": "SXV3YHhRcDFc",
        "colab": {
          "base_uri": "https://localhost:8080/"
        },
        "outputId": "349d1a69-67b2-4922-ff35-8be3b53baeab"
      },
      "execution_count": null,
      "outputs": [
        {
          "output_type": "stream",
          "name": "stdout",
          "text": [
            "[nltk_data] Downloading package punkt to /root/nltk_data...\n",
            "[nltk_data]   Unzipping tokenizers/punkt.zip.\n"
          ]
        }
      ]
    },
    {
      "cell_type": "markdown",
      "source": [
        "Define text preprocessing functions"
      ],
      "metadata": {
        "id": "kis7poc1T7pP"
      }
    },
    {
      "cell_type": "code",
      "source": [
        "# training data preparation\n",
        "def preprocess(doc):\n",
        "    doc = str(doc).lower()  # Lower the text.\n",
        "    doc = word_tokenize(doc)  # Split into words.\n",
        "    doc = [w for w in doc if not w in stop_words]  # Remove stopwords.\n",
        "    doc = [w for w in doc if w.isalpha()]  # Remove numbers and punctuation.\n",
        "    return doc"
      ],
      "metadata": {
        "id": "rBFqy4EfcRLB"
      },
      "execution_count": null,
      "outputs": []
    },
    {
      "cell_type": "code",
      "source": [
        "w2v_corpus=[]"
      ],
      "metadata": {
        "id": "kmZwT0DRcTxK"
      },
      "execution_count": null,
      "outputs": []
    },
    {
      "cell_type": "markdown",
      "source": [
        "load checklist.txt"
      ],
      "metadata": {
        "id": "kOa2601iUDDV"
      }
    },
    {
      "cell_type": "code",
      "source": [
        "with open(\"checklist.txt\", \"r\") as f:\n",
        "    for line in f.readlines():\n",
        "        line = line.strip('\\n')\n",
        "        line = preprocess(line)\n",
        "        w2v_corpus.append(line)"
      ],
      "metadata": {
        "id": "hTRyqkGWcY-U"
      },
      "execution_count": null,
      "outputs": []
    },
    {
      "cell_type": "markdown",
      "source": [
        "Train model"
      ],
      "metadata": {
        "id": "dS-N-C6UUHOm"
      }
    },
    {
      "cell_type": "code",
      "source": [
        "# training\n",
        "model = Word2Vec(w2v_corpus, min_count=1)\n",
        "print(\"Model trained successfully\")"
      ],
      "metadata": {
        "id": "-r-4GAJMc5o1"
      },
      "execution_count": null,
      "outputs": []
    },
    {
      "cell_type": "markdown",
      "source": [
        "save new model"
      ],
      "metadata": {
        "id": "0y_Nw-VkUMWV"
      }
    },
    {
      "cell_type": "code",
      "source": [
        "# save model\n",
        "model.save(\"labeling_w2v_model\")\n",
        "print(\"Model saved successfully\")"
      ],
      "metadata": {
        "id": "98uC0HJkdlOH"
      },
      "execution_count": null,
      "outputs": []
    },
    {
      "cell_type": "markdown",
      "source": [
        "Application example"
      ],
      "metadata": {
        "id": "A6xn1RytUWhM"
      }
    },
    {
      "cell_type": "code",
      "source": [
        "## load model\n",
        "# wv_model = Word2Vec.load(\"labeling_w2v_model\")"
      ],
      "metadata": {
        "id": "NVTr3nQdU5ad"
      },
      "execution_count": null,
      "outputs": []
    },
    {
      "cell_type": "code",
      "source": [
        "## load template\n",
        "# with open(\"checklist.txt\", \"r\", encoding='UTF-8') as f: \n",
        "    # template = preprocess(f.read())"
      ],
      "metadata": {
        "id": "S2Fc3At9E7ck"
      },
      "execution_count": null,
      "outputs": []
    },
    {
      "cell_type": "code",
      "source": [
        "#text0='hello i am calling from uob it is convenient to talk to you for a while'"
      ],
      "metadata": {
        "id": "__S6OPkQFGRc"
      },
      "execution_count": null,
      "outputs": []
    },
    {
      "cell_type": "code",
      "source": [
        "#text1='hello i am fine'"
      ],
      "metadata": {
        "id": "rL8unITFFMo2"
      },
      "execution_count": null,
      "outputs": []
    },
    {
      "cell_type": "code",
      "source": [
        "#wv_model.wv.wmdistance(text0, template)"
      ],
      "metadata": {
        "colab": {
          "base_uri": "https://localhost:8080/"
        },
        "id": "PcmfWNxvE9Kb",
        "outputId": "5890b7a1-2b89-46eb-d450-8b694c3f9783"
      },
      "execution_count": null,
      "outputs": [
        {
          "output_type": "execute_result",
          "data": {
            "text/plain": [
              "0.03965958663781229"
            ]
          },
          "metadata": {},
          "execution_count": 35
        }
      ]
    },
    {
      "cell_type": "code",
      "source": [
        "#wv_model.wv.wmdistance(text1, template)"
      ],
      "metadata": {
        "colab": {
          "base_uri": "https://localhost:8080/"
        },
        "id": "uqU6FMFgFQft",
        "outputId": "586c49f6-1a57-411f-d537-bf55c34a0f75"
      },
      "execution_count": null,
      "outputs": [
        {
          "output_type": "execute_result",
          "data": {
            "text/plain": [
              "0.04050937803424969"
            ]
          },
          "metadata": {},
          "execution_count": 36
        }
      ]
    }
  ]
}